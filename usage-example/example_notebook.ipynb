{
 "cells": [
  {
   "cell_type": "markdown",
   "metadata": {},
   "source": [
    "# Hendricks Group\n",
    "\n",
    "# Hidden Ancestry Example Notebook"
   ]
  },
  {
   "cell_type": "markdown",
   "metadata": {},
   "source": [
    "_In the following notebook, we solve an example Hidden Ancestries problem using the main features in this Python package._ \n",
    "\n",
    "* We use simulated SNPs with minor allele frequencies for $K=5$ ancestries -- European ancestries, African ancestries, South Asian ancestries, East Asian ancestries, and Indigenous American ancestires. \n",
    "\n",
    "* We numerically solve for the 5 ancestry's true proportions in the _observed_ population, which is the vector $\\pi^*:=(\\pi_1,\\pi_2,\\pi_3,\\pi_4, \\pi_5)$.\n",
    "    * $\\pi_1$ denotes the proportion of European ancestries in the observed population\n",
    "    * $\\pi_2$ denotes the proportion of African ancestries in the observed population\n",
    "    * $\\pi_3$ denotes the proportion of South Asian ancestries in the observed population\n",
    "    * $\\pi_4$ denotes the proportion of East Asian ancestries in the observed population\n",
    "    * $\\pi_5$ denotes the proportion of Indigenous American ancestries in the observed population\n",
    "\n",
    "* In this notebook, we work with an example data set $D$ with $N=10,000$ SNPs and ensure that our Python script correctly uses the data to solve for these ancestry proportions using Sequential Least Squares Quadratic Programming, or SLSQP."
   ]
  },
  {
   "cell_type": "markdown",
   "metadata": {},
   "source": [
    "* The cell below calls the generalized HA script, which is the main feature of the HA Python package. \n",
    "* Then we can access the functions inside of the script to solve an example problem."
   ]
  },
  {
   "cell_type": "code",
   "execution_count": 1,
   "metadata": {},
   "outputs": [
    {
     "ename": "ModuleNotFoundError",
     "evalue": "No module named 'summix_py'",
     "output_type": "error",
     "traceback": [
      "\u001b[0;31m---------------------------------------------------------------------------\u001b[0m",
      "\u001b[0;31mModuleNotFoundError\u001b[0m                       Traceback (most recent call last)",
      "\u001b[0;32m<ipython-input-1-fd740706c8bf>\u001b[0m in \u001b[0;36m<module>\u001b[0;34m()\u001b[0m\n\u001b[0;32m----> 1\u001b[0;31m \u001b[0;32mfrom\u001b[0m \u001b[0msummix_py\u001b[0m\u001b[0;34m.\u001b[0m\u001b[0msummix\u001b[0m \u001b[0;32mimport\u001b[0m \u001b[0mSUMMIX\u001b[0m\u001b[0;34m\u001b[0m\u001b[0m\n\u001b[0m\u001b[1;32m      2\u001b[0m \u001b[0;32mfrom\u001b[0m \u001b[0msummix_py\u001b[0m\u001b[0;34m.\u001b[0m\u001b[0msummix\u001b[0m \u001b[0;32mimport\u001b[0m \u001b[0madjAF\u001b[0m\u001b[0;34m\u001b[0m\u001b[0m\n\u001b[1;32m      3\u001b[0m \u001b[0;32mimport\u001b[0m \u001b[0mnumpy\u001b[0m \u001b[0;32mas\u001b[0m \u001b[0mnp\u001b[0m\u001b[0;34m\u001b[0m\u001b[0m\n",
      "\u001b[0;31mModuleNotFoundError\u001b[0m: No module named 'summix_py'"
     ]
    }
   ],
   "source": [
    "from summix_py.summix import SUMMIX\n",
    "from summix_py.summix import adjAF\n",
    "import numpy as np"
   ]
  },
  {
   "cell_type": "markdown",
   "metadata": {},
   "source": [
    "* In the cell below, we read in the example data set provided with this package, called \"HA-package-data.txt\".\n",
    "    * We have provided this data in a CSV format as well\n",
    "* We use Pandas to convert from the .txt, tab-delimited format to an array endowed with numerical linear algebra properties Python understands.\n",
    "* How data is formatted matters a lot -- order matters...\n",
    "    * The data should contain Chromosome number, SNP number (RSID, location on genome), base pair (bP), reference and alternate alleles (A1 and A2),the $K=5$ minor allele frequencies of the (1000 genomes) reference ancestires (in this case), and finally, any (gnomAD) observed allele frequencies we wish to model. \n",
    "    * $D$ does not contain an indexing column containing the natural numbers up to $N$ -- Pandas/Jupyter is just showing this as part of the print statement -- it is not a column of $D$ itself! \n",
    "    * We only need certain columns of $D$ to solve our example problem...\n",
    "        * That is, we only need the minor allele frequencies and whichever observed allele frequency we are modeling, which should be $K+1$ columns of D. In our case, we need 6 of the total 13 columns.\n",
    "    * For more info about data formatting, please see our Data Formatting Guide.\n",
    "* We print out the first 5 rows of $D$ to take a look at its structure and check for basic correctness in what we _think_ we are working with!\n",
    "\n",
    "#### Note that everything done in the cell below is already handled in our HA_script; the user does not have to read-in the data on their own.\n",
    "###### We choose to show the Pandas read-in process below for general demonstration and checks below. Also, we can print out the data for inspection."
   ]
  },
  {
   "cell_type": "code",
   "execution_count": null,
   "metadata": {},
   "outputs": [],
   "source": [
    "import pandas as pd\n",
    "# Read in the data (if tab delimited txt)\n",
    "D = pd.read_csv(\"example-data/example-data.txt\",sep='\\t')\n",
    "\n",
    "# Read in the data (if CSV)\n",
    "#D = pd.read_csv(\"HA-package-data.csv\")\n",
    "\n",
    "D.head(5) ### Look at the first 5 rows"
   ]
  },
  {
   "cell_type": "markdown",
   "metadata": {},
   "source": [
    "* In the cell below, we specify the number of reference ancestries, $K$, (here we have 5) and choose an initial iterate.\n",
    "    * Choosing an initial iterate is optional.\n",
    "    * The default initial iterate is $\\pi^{(0)}=\\frac{1}{K}(1,\\ldots,1)\\in \\mathbb{R}^{K}$, if one is not provided.\n",
    "    * The initial iterate must be a $K \\times 1$ (column) or $1 \\times K$ (row) vector (the HA script can handle either shape)."
   ]
  },
  {
   "cell_type": "code",
   "execution_count": null,
   "metadata": {},
   "outputs": [],
   "source": [
    "k=5 # User must specify number of ancestries!\n",
    "pi_0 = [[0.3,0.1,0.2,0.1,0.3]] # You do not have to provide the initial iterate, but you may.\n",
    "np.shape(pi_0) # Check for correct shape"
   ]
  },
  {
   "cell_type": "markdown",
   "metadata": {},
   "source": [
    "* In the cell below, we quickly check that we have specified a data matrix $D$ and total number of ancestries $K$ that match the number of SNPs we think we are working with as well as the correct reference ancestry number."
   ]
  },
  {
   "cell_type": "code",
   "execution_count": null,
   "metadata": {},
   "outputs": [],
   "source": [
    "print('our problem includes', np.shape(D)[0], 'SNPs, and', k, 'reference ancestries.')"
   ]
  },
  {
   "cell_type": "markdown",
   "metadata": {},
   "source": [
    "* In the cell below, we apply the HA function to our data file, with intial iterate $\\pi^{(0)}$ (optional), and the number of ancestries, $K=5$. \n",
    "    * We can also provide different observation columns if we choose.\n",
    "* The HA function will output an array containing the numerical solution, $\\pi^{final}$, the number of SLSQP iterations taken to find the numerical solution, and the total runtime (in seconds) of SLSQP.\n",
    "    * All of these are callable ojects and we show how that works below.\n",
    "    * The function will also by default print these items out, as we will see."
   ]
  },
  {
   "cell_type": "code",
   "execution_count": null,
   "metadata": {},
   "outputs": [],
   "source": [
    "# Call the main function of the script, with correctly specified inputs, to obtain an answer_obj, or answer object, to store\n",
    "# the key outputs for calculations/checks (below)\n",
    "\n",
    "my_ref=['ref_eur_1000G','ref_afr_1000G','ref_sas_1000G','ref_eas_1000G','ref_iam_1000G']\n",
    "my_ref2=['ref_eur_1000G','ref_afr_1000G']\n",
    "answer_obj=SUMMIX(ref=my_ref,obs='gnomAD_afr', file_name=\"HA-package-data.txt\", k=5, x_guess=None, file_format='tab')"
   ]
  },
  {
   "cell_type": "markdown",
   "metadata": {},
   "source": [
    "#### _Above we see a printout of the numerical solution, $\\pi^{final}$, the number of SLSQP iterations, and the time in seconds of the run._\n",
    "\n",
    "#### In detail:\n",
    "\n",
    "* The numerical solution we have found is given by $$\\pi^\\text{final}\\approx (0.158,0.825,0.003,0.008,0.006)$$\n",
    "\n",
    "    * $\\pi_1^\\text{final}\\approx 0.158$ denotes the proportion of European ancestries in the observed population\n",
    "    * $\\pi_2^\\text{final}\\approx 0.825$ denotes the proportion of African ancestries in the observed population\n",
    "    * $\\pi_3^\\text{final}\\approx 0.003$ denotes the proportion of South Asian ancestries in the observed population\n",
    "    * $\\pi_4^\\text{final}\\approx 0.008$ denotes the proportion of East Asian ancestries in the observed population\n",
    "    * $\\pi_5^\\text{final}\\approx 0.006$ denotes the proportion of Indigenous American ancestries in the observed population\n",
    "    * ___Recall that we chose the gnomAD African sample for our observed population in this example.___\n",
    "    \n",
    "    \n",
    "* SLSQP went through about 10-12 iterations to obtain this numerical solution\n",
    "    \n",
    "\n",
    "* The runtime of the script/computational process should be less than a second, depending on your machine.\n",
    "\n",
    "<br>"
   ]
  },
  {
   "cell_type": "markdown",
   "metadata": {},
   "source": [
    "* The \"answer_obj\" can now be \"unpacked\" by calling the 0th, 1st, or 2nd entry in that object which will return the solution vector, number of iterations, and time, respectively.\n",
    "    * May be useful if you want to analyze the solution vector in some fashion, or find average run times over many trials, etc.\n",
    "    * To demonstrate, let's check that our solution vector adds up to 1 exactly."
   ]
  },
  {
   "cell_type": "code",
   "execution_count": null,
   "metadata": {},
   "outputs": [],
   "source": [
    "pi_hat = answer_obj[0] # Defines pi_final as the solution vector\n",
    "print(np.sum(pi_hat,axis=0)) # Check that components of solution vector add to 1"
   ]
  },
  {
   "cell_type": "markdown",
   "metadata": {},
   "source": [
    "## Adjusting Allele Frequencies\n",
    "\n",
    "#### Need to add description of method & results still!"
   ]
  },
  {
   "cell_type": "code",
   "execution_count": null,
   "metadata": {
    "collapsed": true
   },
   "outputs": [],
   "source": [
    "pi_star = np.array((0.9,0.1))\n",
    "#pi_star = np.array((0,.9,.1))\n",
    "pi_hat_1 = np.array((0.1596,0.8404))\n",
    "#pi_hat_1 = np.array((0.15,0.84,0.01))\n",
    "#ref_with_example_unknown=['ref_iam_1000G','ref_afr_1000G', 'unknown']"
   ]
  },
  {
   "cell_type": "code",
   "execution_count": null,
   "metadata": {
    "scrolled": false
   },
   "outputs": [],
   "source": [
    "my_adj_AF=adjAF(ref=['ref_iam_1000G','ref_afr_1000G'],obs=\"ref_afr_1000G\",pi_star=pi_star,file_name=\"HA-package-data.txt\",file_format='tab',pi_hat=pi_hat_1)"
   ]
  },
  {
   "cell_type": "code",
   "execution_count": null,
   "metadata": {},
   "outputs": [],
   "source": [
    "my_adj_AF.head(10)"
   ]
  }
 ],
 "metadata": {
  "kernelspec": {
   "display_name": "Python 3",
   "language": "python",
   "name": "python3"
  },
  "language_info": {
   "codemirror_mode": {
    "name": "ipython",
    "version": 3
   },
   "file_extension": ".py",
   "mimetype": "text/x-python",
   "name": "python",
   "nbconvert_exporter": "python",
   "pygments_lexer": "ipython3",
   "version": "3.6.3"
  }
 },
 "nbformat": 4,
 "nbformat_minor": 2
}
